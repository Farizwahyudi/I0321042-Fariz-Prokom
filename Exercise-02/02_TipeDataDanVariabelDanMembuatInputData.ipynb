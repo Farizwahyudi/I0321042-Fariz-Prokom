{
 "cells": [
  {
   "cell_type": "markdown",
   "metadata": {},
   "source": [
    "# Exercise 2\n",
    "\n",
    "1. Salinlah kode di bawah ini dan isilah titik-titik sesuai dengan perintah yang ada\n",
    "![](./images/02_TipeDataDanVariabel.png)"
   ]
  },
  {
   "cell_type": "code",
   "execution_count": 5,
   "metadata": {},
   "outputs": [
    {
     "name": "stdout",
     "output_type": "stream",
     "text": [
      "Nama lengkap saya adalah Fariz Wahyudi\n",
      "Nama panggilan saya adalah Wahyu\n",
      "Umur saya saat ini adalah 19\n",
      "Tipe data variabel _umur adalah <class 'int'>\n",
      "Umur saya saat ini adalah sembilan belas tahun\n",
      "Tipe data variabel _umur adalah <class 'str'>\n",
      "Tinggi badan saya adalah 170.5\n",
      "Tipe data variabel tinggi_badan adalah <class 'float'>\n",
      "Saya merupakan mahasiswa angkatan 2021 adalah True\n",
      "Tipe data variabel mahasiswaangkatan2021 adalah <class 'bool'>\n"
     ]
    }
   ],
   "source": [
    "#proses memasukkan data dalam variabel\n",
    "Nama = \"Fariz Wahyudi\"\n",
    "nama = \"Wahyu\"\n",
    "print(\"Nama lengkap saya adalah\", Nama)\n",
    "print(\"Nama panggilan saya adalah\", nama)\n",
    "\n",
    "#nilai dan tipe dalam variabel dapat diubah\n",
    "_umur = 19\n",
    "print(\"Umur saya saat ini adalah\", _umur)\n",
    "print(\"Tipe data variabel _umur adalah\", type(_umur))\n",
    "_umur = \"sembilan belas tahun\"\n",
    "print(\"Umur saya saat ini adalah\", _umur)\n",
    "print(\"Tipe data variabel _umur adalah\", type(_umur))\n",
    "tinggi_badan = 170.5\n",
    "print(\"Tinggi badan saya adalah\",  tinggi_badan)\n",
    "print(\"Tipe data variabel tinggi_badan adalah\", type(tinggi_badan))\n",
    "mahasiswaangkatan2021 = True\n",
    "print(\"Saya merupakan mahasiswa angkatan 2021 adalah\", mahasiswaangkatan2021)\n",
    "print(\"Tipe data variabel mahasiswaangkatan2021 adalah\", type (mahasiswaangkatan2021))\n",
    "\n"
   ]
  },
  {
   "cell_type": "markdown",
   "metadata": {},
   "source": [
    "2. Salinlah kode di bawah ini dan isilah titik-titik sesuai dengan perintah yang ada\n",
    "![](./images/02_MembuatInputData.png)"
   ]
  },
  {
   "cell_type": "code",
   "execution_count": 12,
   "metadata": {},
   "outputs": [
    {
     "name": "stdout",
     "output_type": "stream",
     "text": [
      "Program Konversi Panjang dalam meter ke Berbagai Satuan\n",
      "\n",
      "\n",
      "21 m = 0.021 km\n",
      "21 m = 2100 cm\n",
      "21 m = 21000 mm\n",
      "21 m = 21000000 μm\n",
      "21 m = 21000000000 nm\n",
      "21 m = 826.7717 in\n",
      "21 m = 68.8976 ft\n",
      "21 m = 22.9659 yard\n",
      "21 m = 0.013 mi\n",
      "21 m = 0.0113 nmi\n"
     ]
    }
   ],
   "source": [
    "print(\"Program Konversi Panjang dalam meter ke Berbagai Satuan\")\n",
    "print(\"\")\n",
    "length = int(input(\"Masukkan nilai Panjang dalam meter: \"))\n",
    "feet = length / 0.3048\n",
    "print(\"\")\n",
    "print (length, \"m =\", length / 1000, \"km\")\n",
    "print (length, \"m =\", length * 100, \"cm\")\n",
    "print (length, \"m =\", length * 1000, \"mm\")\n",
    "print (length, \"m =\", length * 1000000, \"μm\")\n",
    "print (length, \"m =\", length * 1000000000, \"nm\")\n",
    "\n",
    "#round berfungsi untuk membulatkan hasil ke N angka di belakang koma\n",
    "print (length, \"m =\", round(feet * 12, 4), \"in\")\n",
    "print (length, \"m =\", round(feet,  4), \"ft\")\n",
    "print (length, \"m =\", round(feet / 3, 4), \"yard\")\n",
    "print (length, \"m =\", round(feet / 5280, 4), \"mi\")\n",
    "print (length, \"m =\", round(length / 1852, 4), \"nmi\")\n",
    "\n",
    "\n",
    "\n",
    "\n"
   ]
  },
  {
   "cell_type": "markdown",
   "metadata": {},
   "source": [
    "### Cara Pengumpulan\n",
    "\n",
    "1. Buka *New Terminal*\n",
    "2. Pastikan *path* Terminal adalah folder repositori kalian (NIM-Nama-Prokom).\n",
    "3. Tambahkan file yang akan ditrack dengan `git add <nama file>`. Nama file bisa diubah . (titik) yang artinya semua file dalam folder akan ditrack.\n",
    "4. Lakukan commit perubahan dengan `git commit -m <deskripsi>`.\n",
    "5. Lakukan push dengan `git push -u origin <nama branch>`. Nama branch dapat diketahui dengan `git branch`.\n",
    "6. Pastikan Exercise-02 telah terupload dan dapat diakses di repositori dengan mengaksesnya di browser."
   ]
  }
 ],
 "metadata": {
  "interpreter": {
   "hash": "627a6984d311e5e0ccd98037d6e75227174db13c3a5d04f68927b8a270a52ecc"
  },
  "kernelspec": {
   "display_name": "Python 3.10.0 64-bit",
   "name": "python3"
  },
  "language_info": {
   "codemirror_mode": {
    "name": "ipython",
    "version": 3
   },
   "file_extension": ".py",
   "mimetype": "text/x-python",
   "name": "python",
   "nbconvert_exporter": "python",
   "pygments_lexer": "ipython3",
   "version": "3.10.0"
  },
  "orig_nbformat": 4
 },
 "nbformat": 4,
 "nbformat_minor": 2
}
