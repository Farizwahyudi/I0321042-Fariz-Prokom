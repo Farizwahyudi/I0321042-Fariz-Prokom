{
 "cells": [
  {
   "cell_type": "markdown",
   "metadata": {},
   "source": [
    "***\n",
    "<h1 align=\"center\">Exercise 04</h1>\n",
    " \n",
    "***\n",
    "## Operator Aritmetika\n",
    "Buatlah kode seperti berikut:\n",
    "![](./images/04_operatorAritmetika.png)\n",
    "Ubah variabel **x** dengan **3 digit terakhir nim kalian** dan ubah variabel **y** dengan **tanggal kalian mengerjakan**."
   ]
  },
  {
   "cell_type": "code",
   "execution_count": 1,
   "metadata": {},
   "outputs": [
    {
     "name": "stdout",
     "output_type": "stream",
     "text": [
      "x + y = 73\n",
      "x - y = 11\n",
      "x * y = 1302\n",
      "x / y = 1.3548387096774193\n",
      "x // y = 1\n",
      "x ** y = 209280132851277227501988209234026802122409700753408\n"
     ]
    }
   ],
   "source": [
    "x = 42\n",
    "y = 31\n",
    "\n",
    "print('x + y =', x+y)\n",
    "print('x - y =', x-y)\n",
    "print('x * y =', x*y)\n",
    "print('x / y =', x/y)\n",
    "print('x // y =', x//y)\n",
    "print('x ** y =', x**y)\n",
    "%reset -f"
   ]
  },
  {
   "cell_type": "markdown",
   "metadata": {},
   "source": [
    "## Operator Relasional/*Comparison*\n",
    "Buatlah kode seperti berikut dan jalankan!\n",
    "![](./images/04_operatorRelasional.png)\n"
   ]
  },
  {
   "cell_type": "code",
   "execution_count": 4,
   "metadata": {},
   "outputs": [
    {
     "name": "stdout",
     "output_type": "stream",
     "text": [
      "x > y is False\n",
      "x < y is True\n",
      "x == y is False\n",
      "x != y is True\n",
      "x >= y is False\n",
      "x <= y is True\n"
     ]
    }
   ],
   "source": [
    "x = 15\n",
    "x = 10\n",
    "y = 12\n",
    "print('x > y is', x>y)\n",
    "print('x < y is', x<y)\n",
    "print('x == y is', x==y)\n",
    "print('x != y is', x!=y)\n",
    "print('x >= y is', x>=y)\n",
    "print('x <= y is', x<=y)  \n",
    "%reset -f"
   ]
  },
  {
   "cell_type": "markdown",
   "metadata": {},
   "source": [
    "## Operator Logika\n",
    "Lengkapi kode program yang rumpang dibawah!\n"
   ]
  },
  {
   "cell_type": "code",
   "execution_count": 6,
   "metadata": {},
   "outputs": [
    {
     "name": "stdout",
     "output_type": "stream",
     "text": [
      "x > 5 and 10 < y is True\n",
      "x or y more than or equal to 10 is 7\n",
      "x or y not more than or equal to 10 is False\n"
     ]
    }
   ],
   "source": [
    "x = 7\n",
    "y = 20\n",
    "print('x > 5 and 10 < y is',x>5 and 10 < y) \n",
    "print('x or y more than or equal to 10 is', x or y)\n",
    "print('x or y not more than or equal to 10 is',not( x or y))\n",
    "\n",
    "%reset -f"
   ]
  },
  {
   "cell_type": "markdown",
   "metadata": {},
   "source": [
    "## Operator String\n",
    "\n",
    "### 1. Concat strings\n",
    "Buat kode program pada cell selanjutnya seperti contoh berikut ini dengan mengubah variabel **str1** dengan nama depan kalian dan **str2** dengan nama belakang kalian!\n",
    "![](./images/04_concatStrings.png)"
   ]
  },
  {
   "cell_type": "code",
   "execution_count": 28,
   "metadata": {},
   "outputs": [
    {
     "name": "stdout",
     "output_type": "stream",
     "text": [
      "Fariz Wahyudi\n"
     ]
    }
   ],
   "source": [
    "str1 = \"Fariz\"\n",
    "str2 = \"Wahyudi\"\n",
    "\n",
    "result = str1 + \" \" + str2\n",
    "\n",
    "print(result)\n",
    "%reset -f"
   ]
  },
  {
   "cell_type": "markdown",
   "metadata": {},
   "source": [
    "### 2. Replikasi strings\n",
    "Buat kode program pada cell selanjutnya seperti contoh berikut ini!\n",
    "![](./images/04_replikasiStrings.png)"
   ]
  },
  {
   "cell_type": "code",
   "execution_count": 38,
   "metadata": {},
   "outputs": [
    {
     "name": "stdout",
     "output_type": "stream",
     "text": [
      "WKWKWK\n"
     ]
    }
   ],
   "source": [
    "str = \"WK\"\n",
    "result = str * 3\n",
    "print(result)\n",
    "%reset -f"
   ]
  },
  {
   "cell_type": "markdown",
   "metadata": {},
   "source": [
    "### 3. Pengecekan membership– in\n",
    "Buat kode program pada cell selanjutnya seperti contoh berikut ini!\n",
    "![](./images/04_pengecekanMembership-in.png)\n",
    "Kemudian jalankan program yang telah dibuat."
   ]
  },
  {
   "cell_type": "code",
   "execution_count": 47,
   "metadata": {},
   "outputs": [
    {
     "name": "stdout",
     "output_type": "stream",
     "text": [
      "lo is present in the string hello world\n"
     ]
    }
   ],
   "source": [
    "needle = \"lo\"\n",
    "haystack = \"hello world\"\n",
    "if needle in haystack:\n",
    "    print(needle, \"is present in the string\", haystack)\n",
    "else:\n",
    "    print(\"Not found\")\n",
    "%reset -f"
   ]
  },
  {
   "cell_type": "markdown",
   "metadata": {},
   "source": [
    "### 4. Checking membership - not in\n",
    "Buat kode program pada cell selanjutnya seperti contoh berikut ini!\n",
    "![](./images/04_pengecekanMembership-out.png)\n",
    "Kemudian jalankan program yang dibuat."
   ]
  },
  {
   "cell_type": "code",
   "execution_count": 55,
   "metadata": {},
   "outputs": [
    {
     "name": "stdout",
     "output_type": "stream",
     "text": [
      "Not found\n"
     ]
    }
   ],
   "source": [
    "needle = \"HA\"\n",
    "haystack = \"Hello World\"\n",
    "if needle in haystack:\n",
    "    print(needle, \"is present in the string\", haystack)\n",
    "else:\n",
    "    print(\"Not found\")\n",
    "%reset -f"
   ]
  },
  {
   "cell_type": "markdown",
   "metadata": {},
   "source": [
    "### 5. Mengakses karakter dalam string\n",
    "Buat kode program pada cell selanjutnya seperti contoh berikut ini dengan mengubah variabel **str** dengan nama depan kalian!\n",
    "![](./images/04_mengaksesString.png)\n",
    "Kemudian jalankan program yang dibuat."
   ]
  },
  {
   "cell_type": "code",
   "execution_count": 159,
   "metadata": {},
   "outputs": [
    {
     "name": "stdout",
     "output_type": "stream",
     "text": [
      "z\n"
     ]
    }
   ],
   "source": [
    "str = \"Fariz\"\n",
    "ch = str[4]\n",
    "print(ch)\n",
    "%reset -f"
   ]
  },
  {
   "cell_type": "markdown",
   "metadata": {},
   "source": [
    "### 6. Substring\n",
    "Berdasarkan contoh di bawah, buatlah program yang memberi output **3** huruf terakhir dari **nama depan** kalian!\n",
    "![](./images/04_substring.png)\n",
    "Kemudian jalankan program yang dibuat."
   ]
  },
  {
   "cell_type": "code",
   "execution_count": 190,
   "metadata": {},
   "outputs": [
    {
     "name": "stdout",
     "output_type": "stream",
     "text": [
      "riz \n"
     ]
    }
   ],
   "source": [
    "str = \"Fariz Wahyudi\"\n",
    "substr = str[2:6]\n",
    "print(substr)\n",
    "%reset -f"
   ]
  },
  {
   "cell_type": "markdown",
   "metadata": {},
   "source": [
    "### 7. Skipping characters\n",
    "Berdasarkan contoh di bawah, buatlah program yang memberi output substring berindeks ganjil dari string **nama kota asal kalian**!\n",
    "![](./images/04_skipping.png)\n",
    "Kemudian jalankan program yang dibuat."
   ]
  },
  {
   "cell_type": "code",
   "execution_count": 274,
   "metadata": {},
   "outputs": [
    {
     "name": "stdout",
     "output_type": "stream",
     "text": [
      "Dpk\n"
     ]
    }
   ],
   "source": [
    "string: \"Depok\"\n",
    "str = \"Depok\"\n",
    "new_str = str [0::2]\n",
    "print(new_str)\n",
    "%reset -f"
   ]
  },
  {
   "cell_type": "markdown",
   "metadata": {},
   "source": [
    "### 8. Reverse string\n",
    "Berdasarkan contoh di bawah, buatlah program yang membalikkan string **nama kota asal kalian**!\n",
    "![](./images/04_reverse.png)\n",
    "Kemudian jalankan program yang dibuat."
   ]
  },
  {
   "cell_type": "code",
   "execution_count": 275,
   "metadata": {},
   "outputs": [
    {
     "name": "stdout",
     "output_type": "stream",
     "text": [
      "kopeD\n"
     ]
    }
   ],
   "source": [
    "str = \"Depok\"\n",
    "result = str[::-1]\n",
    "print(result)\n",
    "%reset -f"
   ]
  },
  {
   "cell_type": "markdown",
   "metadata": {},
   "source": [
    "## Operator Bitwise"
   ]
  },
  {
   "cell_type": "markdown",
   "metadata": {},
   "source": [
    "Buat ulang kode program di bawah ini!\n",
    "![](./images/04_operatorBitwise.png)\n",
    "Kemudian jalankan program yang dibuat."
   ]
  },
  {
   "cell_type": "code",
   "execution_count": 292,
   "metadata": {},
   "outputs": [
    {
     "name": "stdout",
     "output_type": "stream",
     "text": [
      "a & b = 0\n",
      "a | b = 14\n",
      "~a = -11\n",
      "a ^ b = 14\n"
     ]
    }
   ],
   "source": [
    "a = 10\n",
    "b = 4\n",
    "print(\"a & b =\", a & b)\n",
    "print(\"a | b =\", a | b)\n",
    "print(\"~a =\", ~a)\n",
    "print(\"a ^ b =\", a ^ b)\n",
    "%reset -f"
   ]
  },
  {
   "cell_type": "markdown",
   "metadata": {},
   "source": [
    "### Membuat kode\n",
    "Untuk sebuah skenario berikut, tulis program pada Cell Python dibawah.\n",
    "\n",
    "Untuk mendaftar kursus online, calon peserta harus berusia minimal 21 tahun dan telah lulus tes substansi. Pengguna akan ditanyai pertanyaan-pertanyaan berikut:\n",
    "1. Berapa usia anda?\n",
    "2. Apakah anda lulus tes substansi (Y/T)?\n",
    "\n",
    "Tanggapan/response dari pertanyaan berupa string berikut:\n",
    "1. “Anda dapat mendaftar di kursus.”, atau\n",
    "2. “Anda tidak dapat mendaftar di kursus.”"
   ]
  },
  {
   "cell_type": "code",
   "execution_count": 309,
   "metadata": {},
   "outputs": [
    {
     "name": "stdout",
     "output_type": "stream",
     "text": [
      "Berapa usia anda?\n",
      "19.0\n",
      "Apakah anda lulus tes substansi?\n",
      "Masukkan \"Y\" untuk Ya, masukkan \"T\" untuk tidak\n",
      "Y\n",
      "Anda tidak dapat mendaftar di kursus\n"
     ]
    }
   ],
   "source": [
    "print(\"Berapa usia anda?\")\n",
    "usia = float(input(\"Masukkan usia anda: \"))\n",
    "print(usia)\n",
    "print(\"Apakah anda lulus tes substansi?\")\n",
    "print('Masukkan \"Y\" untuk Ya, masukkan \"T\" untuk tidak')\n",
    "kelulusan = str(input(\"Apakah anda lulus tes substansi (Y/T): \"))\n",
    "print(kelulusan)\n",
    "\n",
    "if (usia >= 21 and (kelulusan==(\"Y\") or kelulusan==(\"y\"))):\n",
    "    print(\"Anda dapat mendaftar di kursus\")\n",
    "else:\n",
    "    print(\"Anda tidak dapat mendaftar di kursus\")"
   ]
  },
  {
   "cell_type": "markdown",
   "metadata": {},
   "source": [
    "### Cara Pengumpulan\n",
    "\n",
    "1. Buka *New Terminal*\n",
    "2. Pastikan *path* Terminal adalah folder repositori kalian (NIM-Nama-Prokom).\n",
    "3. Tambahkan file yang akan ditrack dengan `git add <nama file>`. Nama file bisa diubah . (titik) yang artinya semua file dalam folder akan ditrack.\n",
    "4. Lakukan commit perubahan dengan `git commit -m <deskripsi>`.\n",
    "5. Lakukan push dengan `git push -u origin <nama branch>`. Nama branch dapat diketahui dengan `git branch`.\n",
    "6. Pastikan Exercise-02 telah terupload dan dapat diakses di repositori dengan mengaksesnya di browser."
   ]
  },
  {
   "cell_type": "markdown",
   "metadata": {},
   "source": [
    "***\n",
    "<h1 align=\"center\">Well Done!!!</h1>\n",
    "\n",
    "***"
   ]
  }
 ],
 "metadata": {
  "interpreter": {
   "hash": "627a6984d311e5e0ccd98037d6e75227174db13c3a5d04f68927b8a270a52ecc"
  },
  "kernelspec": {
   "display_name": "Python 3.10.0 64-bit",
   "name": "python3"
  },
  "language_info": {
   "codemirror_mode": {
    "name": "ipython",
    "version": 3
   },
   "file_extension": ".py",
   "mimetype": "text/x-python",
   "name": "python",
   "nbconvert_exporter": "python",
   "pygments_lexer": "ipython3",
   "version": "3.10.0"
  },
  "orig_nbformat": 4
 },
 "nbformat": 4,
 "nbformat_minor": 2
}
